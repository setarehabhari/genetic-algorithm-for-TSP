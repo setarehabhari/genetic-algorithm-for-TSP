{
 "cells": [
  {
   "cell_type": "markdown",
   "metadata": {
    "id": "UEdDsjYLlak6"
   },
   "source": [
    "# Problem\n",
    "In this report i will try optimizing the answer for the traveling salesman problem(TSP) using genetic algorithms.\n",
    "A genetic algorithm is a search heuristic that is inspired by Charles Darwin's theory of natural evolution. This algorithm reflects the process of natural selection where the fittest individuals are selected for reproduction in order to produce offspring of the next generation. Now each genetic algorithm has some important functions which I will explain how they work in my code in this report.\n"
   ]
  },
  {
   "cell_type": "markdown",
   "metadata": {
    "id": "b8ksZvMmJtaF"
   },
   "source": [
    "# Getting genes and their original fitness\n",
    "in the test case that we had (bayg29) the matrix for 29 cities was given to us which had the distance between each city. This distance is also our fitness table, which means for each route that is a permutation of the 29 cities , we have to sum the distance between each to adjacent city.\n",
    "First we have to import the 2 libraries that are needed and define the basic parameters:\n"
   ]
  },
  {
   "cell_type": "code",
   "execution_count": 1,
   "metadata": {
    "id": "BjrwPWEGL5MK"
   },
   "outputs": [],
   "source": [
    "import pandas as pd\n",
    "import random\n",
    "\n",
    "start = 0\n",
    "length = 29\n",
    "bridge_weight = {}\n",
    "city_list = [0]\n",
    "route_list = []\n",
    "best_length = []\n",
    "best_routes = []"
   ]
  },
  {
   "cell_type": "markdown",
   "metadata": {
    "id": "zQo9AyDOMKL5"
   },
   "source": [
    "Then we will read our test case and create our bridge_list which is the distance between each 2 cities that will be used for generating fitness."
   ]
  },
  {
   "cell_type": "code",
   "execution_count": 2,
   "metadata": {
    "id": "lFB-2V0WLl-B"
   },
   "outputs": [],
   "source": [
    "f = open(\"bayg29.tsp\", \"r\")\n",
    "txt = f.readlines()\n",
    "for i in range(1,29):\n",
    "    city_list.append(i)\n",
    "for i in range (8,36):\n",
    "    weight = [float(j) for j in txt[i].split()]\n",
    "    for w in range(len(weight)):\n",
    "        bridge_weight[start, w+start+1] = weight[w]\n",
    "        bridge_weight[w+start+1, w] = weight[w]\n",
    "    start += 1\n"
   ]
  },
  {
   "cell_type": "markdown",
   "metadata": {
    "id": "9K2vVAKBMghY"
   },
   "source": [
    "Now we have to create our first generation which will be derived from random permutations of our cities and the number of these random results is based on the population we want in our code."
   ]
  },
  {
   "cell_type": "code",
   "execution_count": 3,
   "metadata": {
    "id": "zLQBZN_ZNDX0"
   },
   "outputs": [],
   "source": [
    "population = 1000\n",
    "for i in range(population):\n",
    "    route_list.append(random.sample(city_list,29))\n",
    "\n",
    "df = {\"routes\" : route_list}\n",
    "df = pd.DataFrame(df)\n"
   ]
  },
  {
   "cell_type": "markdown",
   "metadata": {
    "id": "X9ZliTJkNEE4"
   },
   "source": [
    "# Fitness\n",
    "For this part we will calculate the fitness of each of our routes and then sort our dataframe so that the best fitness will be the first row of our dataframe. The reason we do this part is that when we want to pick the next generation, it is best to not create the children randomly from each parent and choose the parents wisely."
   ]
  },
  {
   "cell_type": "code",
   "execution_count": 4,
   "metadata": {
    "id": "XHsnWEZMOC6g"
   },
   "outputs": [],
   "source": [
    "def calculate_fitness(route):\n",
    "    distance = 0\n",
    "    # print(route)\n",
    "    for i in range(len(route) - 1):\n",
    "        distance += bridge_weight[route[i+1], route[i]]\n",
    "    distance += bridge_weight[route[-1], route[0]]\n",
    "    return 1 / float(distance)\n",
    "    \n",
    "def fitness_sort(df, new_gen):\n",
    "    for i in range(len(df)):\n",
    "        df.loc[i, \"fitness\"] = calculate_fitness(df.loc[i, \"routes\"])\n",
    "    if(new_gen == True):\n",
    "        max = df[\"fitness\"].idxmax()\n",
    "        best_length.append(1 / df.loc[max, 'fitness'])\n",
    "        best_routes.append(df.loc[max, 'routes'])\n",
    "    df = df.sort_values(by=[\"fitness\"],ascending=False)\n",
    "    df = df.reset_index()\n",
    "    result = []\n",
    "    for i in range(len(df)):\n",
    "        result.append(df.loc[i, 'routes'])\n",
    "    df = pd.DataFrame({'routes' : result})\n",
    "    return df"
   ]
  },
  {
   "cell_type": "markdown",
   "metadata": {
    "id": "UyQugLJeOQC4"
   },
   "source": [
    "# Breed\n",
    "In this part we have to make the childrens of this generation. Several algorithms were presented for doing this part but I found that simply cutting the parents is the best way possible for a gene like this. But for better results I found it best to choose the breaking point randomly. This will allow the algorithm to create a more realistic Genetic Algorithm. But since when cutting the parent and choosing each part from one of them it is possible to have a repeated city in a route we have to check and if that happens ignore the created child."
   ]
  },
  {
   "cell_type": "code",
   "execution_count": 5,
   "metadata": {
    "id": "Volv67_gPKfW"
   },
   "outputs": [],
   "source": [
    "def breed(parentA, parentB):\n",
    "    child = []\n",
    "    break_point = random.randint(0, len(parentA)-1)\n",
    "    for i in range(len(parentA)):\n",
    "        if i <= break_point:\n",
    "            child.append(parentA[i])\n",
    "        else:\n",
    "            child.append(parentB[i])\n",
    "    for i in range(len(child)):\n",
    "        for j in range(i+1, len(child)):\n",
    "            if child[i] == child[j]:\n",
    "                return None\n",
    "    return child"
   ]
  },
  {
   "cell_type": "markdown",
   "metadata": {
    "id": "zHDtPCKfPNH-"
   },
   "source": [
    "# Mutate\n",
    "As we learned in class it is more realistic to mutate some of the childs so that not every child is a copy of their represented parents .This will allow the algorithm to be more natural. For this goal we have different algorithms and between the ones that are suitable for this program I picked the Swap Mutation which is easier and more efficient in my point of view."
   ]
  },
  {
   "cell_type": "code",
   "execution_count": 6,
   "metadata": {
    "id": "e9o3tzGZQo_f"
   },
   "outputs": [],
   "source": [
    "def mutate(child):\n",
    "    x = random.randint(0, len(child)-1)\n",
    "    y = random.randint(0, len(child)-1)\n",
    "    first_gene = child[x]\n",
    "    second_gene = child[y]\n",
    "    child[y] = first_gene\n",
    "    child[x] = second_gene\n",
    "    return child"
   ]
  },
  {
   "cell_type": "markdown",
   "metadata": {
    "id": "TZPuXCfHQsnu"
   },
   "source": [
    "# New generation\n",
    "Now we have to create our next generation. After getting the result of each generation we have to create the next to see if we can get a better result in the new generation. For this part the solution I used was to randomly decide how many childs we want to create and then replace the new childs with the parents that had the worst fitness. Also the children's parents will be chosen from the best half of the parents.(parents with best fitness)"
   ]
  },
  {
   "cell_type": "code",
   "execution_count": 7,
   "metadata": {
    "id": "g7_w7GKgSI3w"
   },
   "outputs": [],
   "source": [
    "def next_generation(df):\n",
    "    childs = []\n",
    "    new_childs_number = random.randint(0, len(df)-1)\n",
    "    df = fitness_sort(df, False)\n",
    "    new_route_list = []\n",
    "    while(len(childs)< new_childs_number):\n",
    "        a_parent_indx = random.randint(0, len(df)//2)\n",
    "        b_parent_indx = random.randint(0, len(df)//2)\n",
    "        result = breed(df.loc[a_parent_indx, 'routes'], df.loc[b_parent_indx, 'routes'])\n",
    "        if result:\n",
    "            childs.append(result)\n",
    "    mutate_number = random.randint(0, new_childs_number)\n",
    "    for i in range(mutate_number):\n",
    "        child_indx = random.randint(0, len(childs)-1)\n",
    "        childs[child_indx] = mutate(childs[child_indx])\n",
    "    replace = 0\n",
    "    for i in range(len(df)-1,0, -1): \n",
    "        if replace < len(childs):\n",
    "            new_route_list.append(childs[replace])\n",
    "            replace += 1\n",
    "        else:\n",
    "            new_route_list.append(df.loc[i, 'routes'])\n",
    "    df = pd.DataFrame({'routes' : new_route_list})\n",
    "    return df"
   ]
  },
  {
   "cell_type": "markdown",
   "metadata": {
    "id": "K703vRp4SL6M"
   },
   "source": [
    "# TSP-algorithm\n",
    "Finally we will calculate the fitness of each generation and find the best fitness(least distance) after the given number of generations."
   ]
  },
  {
   "cell_type": "code",
   "execution_count": 8,
   "metadata": {
    "colab": {
     "base_uri": "https://localhost:8080/"
    },
    "id": "HV6ybp5sScHB",
    "outputId": "2944cc26-1204-4634-fbde-9b8b9d0081bb"
   },
   "outputs": [
    {
     "name": "stdout",
     "output_type": "stream",
     "text": [
      "1940.0\n",
      "[10, 14, 22, 6, 11, 8, 15, 12, 7, 21, 16, 3, 17, 13, 24, 18, 20, 5, 9, 19, 27, 23, 28, 25, 4, 1, 0, 2, 26]\n"
     ]
    }
   ],
   "source": [
    "def TSP_genetic_algorithm(df):\n",
    "    count = 0\n",
    "    while(count< 1000):\n",
    "        count += 1\n",
    "        df = fitness_sort(df, True)\n",
    "        df = next_generation(df)\n",
    "    print(min(best_length))\n",
    "    print(best_routes[best_length.index(min(best_length))])\n",
    "    return\n",
    "\n",
    "TSP_genetic_algorithm(df)"
   ]
  },
  {
   "cell_type": "markdown",
   "metadata": {
    "id": "EDqROp5nTuR_"
   },
   "source": [
    "# Interesting facts\n",
    "While doing this project and trying to get the best result possible, I found out that creating a bigger population and more generations can result in a better response but will also take more time to run. Of Course increasing these numbers isn't always helpful and will sometimes generate worse results. The best numbers I found That resulted in the least distance for me were the ones I used in this report.\n"
   ]
  }
 ],
 "metadata": {
  "colab": {
   "collapsed_sections": [],
   "name": "hw1.ipynb",
   "provenance": [],
   "toc_visible": true
  },
  "kernelspec": {
   "display_name": "Python 3 (ipykernel)",
   "language": "python",
   "name": "python3"
  },
  "language_info": {
   "codemirror_mode": {
    "name": "ipython",
    "version": 3
   },
   "file_extension": ".py",
   "mimetype": "text/x-python",
   "name": "python",
   "nbconvert_exporter": "python",
   "pygments_lexer": "ipython3",
   "version": "3.8.10"
  }
 },
 "nbformat": 4,
 "nbformat_minor": 1
}
